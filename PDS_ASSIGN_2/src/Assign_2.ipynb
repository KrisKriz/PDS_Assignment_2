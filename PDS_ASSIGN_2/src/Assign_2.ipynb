{
  "nbformat": 4,
  "nbformat_minor": 0,
  "metadata": {
    "colab": {
      "provenance": []
    },
    "kernelspec": {
      "name": "python3",
      "display_name": "Python 3"
    },
    "language_info": {
      "name": "python"
    }
  },
  "cells": [
    {
      "cell_type": "code",
      "execution_count": 21,
      "metadata": {
        "id": "CaffU-DE2wME"
      },
      "outputs": [],
      "source": [
        "import seaborn as sn\n",
        "import pandas as pd\n",
        "import numpy as np\n",
        "import re\n",
        "import datetime"
      ]
    },
    {
      "cell_type": "code",
      "source": [
        "df = pd.read_csv(\"/content/train.csv\")"
      ],
      "metadata": {
        "id": "szkFuwvb2_63"
      },
      "execution_count": 2,
      "outputs": []
    },
    {
      "cell_type": "code",
      "source": [
        "print(df)"
      ],
      "metadata": {
        "colab": {
          "base_uri": "https://localhost:8080/"
        },
        "id": "qc9U1map3Bwi",
        "outputId": "82a5ac43-f1f3-4434-84a4-d49e8099df5b"
      },
      "execution_count": 3,
      "outputs": [
        {
          "output_type": "stream",
          "name": "stdout",
          "text": [
            "      Unnamed: 0                              Name    Location  Year  \\\n",
            "0              1  Hyundai Creta 1.6 CRDi SX Option        Pune  2015   \n",
            "1              2                      Honda Jazz V     Chennai  2011   \n",
            "2              3                 Maruti Ertiga VDI     Chennai  2012   \n",
            "3              4   Audi A4 New 2.0 TDI Multitronic  Coimbatore  2013   \n",
            "4              6            Nissan Micra Diesel XV      Jaipur  2013   \n",
            "...          ...                               ...         ...   ...   \n",
            "5842        6014                  Maruti Swift VDI       Delhi  2014   \n",
            "5843        6015          Hyundai Xcent 1.1 CRDi S      Jaipur  2015   \n",
            "5844        6016             Mahindra Xylo D4 BSIV      Jaipur  2012   \n",
            "5845        6017                Maruti Wagon R VXI     Kolkata  2013   \n",
            "5846        6018             Chevrolet Beat Diesel   Hyderabad  2011   \n",
            "\n",
            "      Kilometers_Driven Fuel_Type Transmission Owner_Type     Mileage  \\\n",
            "0                 41000    Diesel       Manual      First  19.67 kmpl   \n",
            "1                 46000    Petrol       Manual      First    13 km/kg   \n",
            "2                 87000    Diesel       Manual      First  20.77 kmpl   \n",
            "3                 40670    Diesel    Automatic     Second   15.2 kmpl   \n",
            "4                 86999    Diesel       Manual      First  23.08 kmpl   \n",
            "...                 ...       ...          ...        ...         ...   \n",
            "5842              27365    Diesel       Manual      First   28.4 kmpl   \n",
            "5843             100000    Diesel       Manual      First   24.4 kmpl   \n",
            "5844              55000    Diesel       Manual     Second   14.0 kmpl   \n",
            "5845              46000    Petrol       Manual      First   18.9 kmpl   \n",
            "5846              47000    Diesel       Manual      First  25.44 kmpl   \n",
            "\n",
            "       Engine      Power  Seats  New_Price  Price  \n",
            "0     1582 CC  126.2 bhp    5.0        NaN  12.50  \n",
            "1     1199 CC   88.7 bhp    5.0  8.61 Lakh   4.50  \n",
            "2     1248 CC  88.76 bhp    7.0        NaN   6.00  \n",
            "3     1968 CC  140.8 bhp    5.0        NaN  17.74  \n",
            "4     1461 CC   63.1 bhp    5.0        NaN   3.50  \n",
            "...       ...        ...    ...        ...    ...  \n",
            "5842  1248 CC     74 bhp    5.0  7.88 Lakh   4.75  \n",
            "5843  1120 CC     71 bhp    5.0        NaN   4.00  \n",
            "5844  2498 CC    112 bhp    8.0        NaN   2.90  \n",
            "5845   998 CC   67.1 bhp    5.0        NaN   2.65  \n",
            "5846   936 CC   57.6 bhp    5.0        NaN   2.50  \n",
            "\n",
            "[5847 rows x 14 columns]\n"
          ]
        }
      ]
    },
    {
      "cell_type": "code",
      "source": [
        "df.isnull().sum()\n"
      ],
      "metadata": {
        "colab": {
          "base_uri": "https://localhost:8080/"
        },
        "id": "pV_zrL-V3F3Q",
        "outputId": "fad4c0f0-0295-4a30-e3de-30223018dbe9"
      },
      "execution_count": 4,
      "outputs": [
        {
          "output_type": "execute_result",
          "data": {
            "text/plain": [
              "Unnamed: 0              0\n",
              "Name                    0\n",
              "Location                0\n",
              "Year                    0\n",
              "Kilometers_Driven       0\n",
              "Fuel_Type               0\n",
              "Transmission            0\n",
              "Owner_Type              0\n",
              "Mileage                 2\n",
              "Engine                 36\n",
              "Power                  36\n",
              "Seats                  38\n",
              "New_Price            5032\n",
              "Price                   0\n",
              "dtype: int64"
            ]
          },
          "metadata": {},
          "execution_count": 4
        }
      ]
    },
    {
      "cell_type": "code",
      "source": [
        "df.mean()"
      ],
      "metadata": {
        "colab": {
          "base_uri": "https://localhost:8080/"
        },
        "id": "3_z-ElO-3PBA",
        "outputId": "8ac37297-1dfa-48d9-b745-6ba284c00e06"
      },
      "execution_count": 5,
      "outputs": [
        {
          "output_type": "stream",
          "name": "stderr",
          "text": [
            "<ipython-input-5-c61f0c8f89b5>:1: FutureWarning: The default value of numeric_only in DataFrame.mean is deprecated. In a future version, it will default to False. In addition, specifying 'numeric_only=None' is deprecated. Select only valid columns or specify the value of numeric_only to silence this warning.\n",
            "  df.mean()\n"
          ]
        },
        {
          "output_type": "execute_result",
          "data": {
            "text/plain": [
              "Unnamed: 0            3013.181461\n",
              "Year                  2013.448435\n",
              "Kilometers_Driven    58410.134599\n",
              "Seats                    5.286452\n",
              "Price                    9.653742\n",
              "dtype: float64"
            ]
          },
          "metadata": {},
          "execution_count": 5
        }
      ]
    },
    {
      "cell_type": "code",
      "source": [
        "def numeric_value(unit):\n",
        "    if isinstance(unit, str):\n",
        "        parts = unit.split()\n",
        "        if len(parts) > 0:\n",
        "            return float(parts[0])\n",
        "        else:\n",
        "            return None\n",
        "    elif isinstance(unit, (int, float)):\n",
        "        return float(unit)\n",
        "    else:\n",
        "        return None"
      ],
      "metadata": {
        "id": "ivpiAoSA3fgK"
      },
      "execution_count": 11,
      "outputs": []
    },
    {
      "cell_type": "code",
      "source": [
        "df['Mileage'] = df['Mileage'].apply(numeric_value)"
      ],
      "metadata": {
        "id": "ltFqtX687c6Y"
      },
      "execution_count": 12,
      "outputs": []
    },
    {
      "cell_type": "code",
      "source": [
        "df['Engine'] = df['Engine'].apply(numeric_value)"
      ],
      "metadata": {
        "id": "jbyY7Frw8SV_"
      },
      "execution_count": 13,
      "outputs": []
    },
    {
      "cell_type": "code",
      "source": [
        "df['Power'] = df['Power'].apply(numeric_value)"
      ],
      "metadata": {
        "id": "_frvAEPa8a8N"
      },
      "execution_count": 14,
      "outputs": []
    },
    {
      "cell_type": "code",
      "source": [
        "df['New_Price'] = df['New_Price'].apply(numeric_value)"
      ],
      "metadata": {
        "id": "DzeKXYrb8ft9"
      },
      "execution_count": 15,
      "outputs": []
    },
    {
      "cell_type": "code",
      "source": [
        "print(df)"
      ],
      "metadata": {
        "colab": {
          "base_uri": "https://localhost:8080/"
        },
        "id": "qLa68dPF8oFr",
        "outputId": "bc61ac5d-e3a1-407a-e5a0-4403721452fb"
      },
      "execution_count": 16,
      "outputs": [
        {
          "output_type": "stream",
          "name": "stdout",
          "text": [
            "      Unnamed: 0                              Name    Location  Year  \\\n",
            "0              1  Hyundai Creta 1.6 CRDi SX Option        Pune  2015   \n",
            "1              2                      Honda Jazz V     Chennai  2011   \n",
            "2              3                 Maruti Ertiga VDI     Chennai  2012   \n",
            "3              4   Audi A4 New 2.0 TDI Multitronic  Coimbatore  2013   \n",
            "4              6            Nissan Micra Diesel XV      Jaipur  2013   \n",
            "...          ...                               ...         ...   ...   \n",
            "5842        6014                  Maruti Swift VDI       Delhi  2014   \n",
            "5843        6015          Hyundai Xcent 1.1 CRDi S      Jaipur  2015   \n",
            "5844        6016             Mahindra Xylo D4 BSIV      Jaipur  2012   \n",
            "5845        6017                Maruti Wagon R VXI     Kolkata  2013   \n",
            "5846        6018             Chevrolet Beat Diesel   Hyderabad  2011   \n",
            "\n",
            "      Kilometers_Driven Fuel_Type Transmission Owner_Type  Mileage  Engine  \\\n",
            "0                 41000    Diesel       Manual      First    19.67  1582.0   \n",
            "1                 46000    Petrol       Manual      First    13.00  1199.0   \n",
            "2                 87000    Diesel       Manual      First    20.77  1248.0   \n",
            "3                 40670    Diesel    Automatic     Second    15.20  1968.0   \n",
            "4                 86999    Diesel       Manual      First    23.08  1461.0   \n",
            "...                 ...       ...          ...        ...      ...     ...   \n",
            "5842              27365    Diesel       Manual      First    28.40  1248.0   \n",
            "5843             100000    Diesel       Manual      First    24.40  1120.0   \n",
            "5844              55000    Diesel       Manual     Second    14.00  2498.0   \n",
            "5845              46000    Petrol       Manual      First    18.90   998.0   \n",
            "5846              47000    Diesel       Manual      First    25.44   936.0   \n",
            "\n",
            "       Power  Seats  New_Price  Price  \n",
            "0     126.20    5.0        NaN  12.50  \n",
            "1      88.70    5.0       8.61   4.50  \n",
            "2      88.76    7.0        NaN   6.00  \n",
            "3     140.80    5.0        NaN  17.74  \n",
            "4      63.10    5.0        NaN   3.50  \n",
            "...      ...    ...        ...    ...  \n",
            "5842   74.00    5.0       7.88   4.75  \n",
            "5843   71.00    5.0        NaN   4.00  \n",
            "5844  112.00    8.0        NaN   2.90  \n",
            "5845   67.10    5.0        NaN   2.65  \n",
            "5846   57.60    5.0        NaN   2.50  \n",
            "\n",
            "[5847 rows x 14 columns]\n"
          ]
        }
      ]
    },
    {
      "cell_type": "code",
      "source": [
        "df.mean()"
      ],
      "metadata": {
        "colab": {
          "base_uri": "https://localhost:8080/"
        },
        "id": "-1qA4YX98xd_",
        "outputId": "fe596403-d0d0-4ddf-9ca7-f322d4bd4da8"
      },
      "execution_count": 17,
      "outputs": [
        {
          "output_type": "stream",
          "name": "stderr",
          "text": [
            "<ipython-input-17-c61f0c8f89b5>:1: FutureWarning: The default value of numeric_only in DataFrame.mean is deprecated. In a future version, it will default to False. In addition, specifying 'numeric_only=None' is deprecated. Select only valid columns or specify the value of numeric_only to silence this warning.\n",
            "  df.mean()\n"
          ]
        },
        {
          "output_type": "execute_result",
          "data": {
            "text/plain": [
              "Unnamed: 0            3013.181461\n",
              "Year                  2013.448435\n",
              "Kilometers_Driven    58410.134599\n",
              "Mileage                 18.158496\n",
              "Engine                1631.552573\n",
              "Power                  113.803144\n",
              "Seats                    5.286452\n",
              "New_Price               20.484564\n",
              "Price                    9.653742\n",
              "dtype: float64"
            ]
          },
          "metadata": {},
          "execution_count": 17
        }
      ]
    },
    {
      "cell_type": "code",
      "source": [
        "df=df.fillna(df.mean())"
      ],
      "metadata": {
        "colab": {
          "base_uri": "https://localhost:8080/"
        },
        "id": "OrXtLnS383Mk",
        "outputId": "1237992e-74a3-498b-f034-46eef34c86a3"
      },
      "execution_count": 18,
      "outputs": [
        {
          "output_type": "stream",
          "name": "stderr",
          "text": [
            "<ipython-input-18-6f8c6f28e805>:1: FutureWarning: The default value of numeric_only in DataFrame.mean is deprecated. In a future version, it will default to False. In addition, specifying 'numeric_only=None' is deprecated. Select only valid columns or specify the value of numeric_only to silence this warning.\n",
            "  df=df.fillna(df.mean())\n"
          ]
        }
      ]
    },
    {
      "cell_type": "code",
      "source": [
        "df.isnull().sum()"
      ],
      "metadata": {
        "colab": {
          "base_uri": "https://localhost:8080/"
        },
        "id": "2UB0IP-r878w",
        "outputId": "1c186988-ba11-4898-eabb-0a93fa2c787a"
      },
      "execution_count": 19,
      "outputs": [
        {
          "output_type": "execute_result",
          "data": {
            "text/plain": [
              "Unnamed: 0           0\n",
              "Name                 0\n",
              "Location             0\n",
              "Year                 0\n",
              "Kilometers_Driven    0\n",
              "Fuel_Type            0\n",
              "Transmission         0\n",
              "Owner_Type           0\n",
              "Mileage              0\n",
              "Engine               0\n",
              "Power                0\n",
              "Seats                0\n",
              "New_Price            0\n",
              "Price                0\n",
              "dtype: int64"
            ]
          },
          "metadata": {},
          "execution_count": 19
        }
      ]
    },
    {
      "cell_type": "code",
      "source": [
        "df = pd.get_dummies(df, columns=['Fuel_Type','Transmission'])\n",
        "print(df)"
      ],
      "metadata": {
        "colab": {
          "base_uri": "https://localhost:8080/"
        },
        "id": "vVVSJJ1M9ACL",
        "outputId": "d893d72e-eefd-448e-b87a-38a790902421"
      },
      "execution_count": 20,
      "outputs": [
        {
          "output_type": "stream",
          "name": "stdout",
          "text": [
            "      Unnamed: 0                              Name    Location  Year  \\\n",
            "0              1  Hyundai Creta 1.6 CRDi SX Option        Pune  2015   \n",
            "1              2                      Honda Jazz V     Chennai  2011   \n",
            "2              3                 Maruti Ertiga VDI     Chennai  2012   \n",
            "3              4   Audi A4 New 2.0 TDI Multitronic  Coimbatore  2013   \n",
            "4              6            Nissan Micra Diesel XV      Jaipur  2013   \n",
            "...          ...                               ...         ...   ...   \n",
            "5842        6014                  Maruti Swift VDI       Delhi  2014   \n",
            "5843        6015          Hyundai Xcent 1.1 CRDi S      Jaipur  2015   \n",
            "5844        6016             Mahindra Xylo D4 BSIV      Jaipur  2012   \n",
            "5845        6017                Maruti Wagon R VXI     Kolkata  2013   \n",
            "5846        6018             Chevrolet Beat Diesel   Hyderabad  2011   \n",
            "\n",
            "      Kilometers_Driven Owner_Type  Mileage  Engine   Power  Seats  New_Price  \\\n",
            "0                 41000      First    19.67  1582.0  126.20    5.0  20.484564   \n",
            "1                 46000      First    13.00  1199.0   88.70    5.0   8.610000   \n",
            "2                 87000      First    20.77  1248.0   88.76    7.0  20.484564   \n",
            "3                 40670     Second    15.20  1968.0  140.80    5.0  20.484564   \n",
            "4                 86999      First    23.08  1461.0   63.10    5.0  20.484564   \n",
            "...                 ...        ...      ...     ...     ...    ...        ...   \n",
            "5842              27365      First    28.40  1248.0   74.00    5.0   7.880000   \n",
            "5843             100000      First    24.40  1120.0   71.00    5.0  20.484564   \n",
            "5844              55000     Second    14.00  2498.0  112.00    8.0  20.484564   \n",
            "5845              46000      First    18.90   998.0   67.10    5.0  20.484564   \n",
            "5846              47000      First    25.44   936.0   57.60    5.0  20.484564   \n",
            "\n",
            "      Price  Fuel_Type_Diesel  Fuel_Type_Electric  Fuel_Type_Petrol  \\\n",
            "0     12.50                 1                   0                 0   \n",
            "1      4.50                 0                   0                 1   \n",
            "2      6.00                 1                   0                 0   \n",
            "3     17.74                 1                   0                 0   \n",
            "4      3.50                 1                   0                 0   \n",
            "...     ...               ...                 ...               ...   \n",
            "5842   4.75                 1                   0                 0   \n",
            "5843   4.00                 1                   0                 0   \n",
            "5844   2.90                 1                   0                 0   \n",
            "5845   2.65                 0                   0                 1   \n",
            "5846   2.50                 1                   0                 0   \n",
            "\n",
            "      Transmission_Automatic  Transmission_Manual  \n",
            "0                          0                    1  \n",
            "1                          0                    1  \n",
            "2                          0                    1  \n",
            "3                          1                    0  \n",
            "4                          0                    1  \n",
            "...                      ...                  ...  \n",
            "5842                       0                    1  \n",
            "5843                       0                    1  \n",
            "5844                       0                    1  \n",
            "5845                       0                    1  \n",
            "5846                       0                    1  \n",
            "\n",
            "[5847 rows x 17 columns]\n"
          ]
        }
      ]
    },
    {
      "cell_type": "code",
      "source": [
        "current_year = datetime.datetime.now().year\n",
        "df['Current_Year']=current_year\n"
      ],
      "metadata": {
        "id": "8eWxOsbQ9F9A"
      },
      "execution_count": 22,
      "outputs": []
    },
    {
      "cell_type": "code",
      "source": [
        "df['Car_Age']=df['Current_Year']-df['Year']\n",
        "print(df)"
      ],
      "metadata": {
        "colab": {
          "base_uri": "https://localhost:8080/"
        },
        "id": "huLeSiHz-P0n",
        "outputId": "3f2d33a2-2da2-476c-c7bf-2626b96eeec4"
      },
      "execution_count": 23,
      "outputs": [
        {
          "output_type": "stream",
          "name": "stdout",
          "text": [
            "      Unnamed: 0                              Name    Location  Year  \\\n",
            "0              1  Hyundai Creta 1.6 CRDi SX Option        Pune  2015   \n",
            "1              2                      Honda Jazz V     Chennai  2011   \n",
            "2              3                 Maruti Ertiga VDI     Chennai  2012   \n",
            "3              4   Audi A4 New 2.0 TDI Multitronic  Coimbatore  2013   \n",
            "4              6            Nissan Micra Diesel XV      Jaipur  2013   \n",
            "...          ...                               ...         ...   ...   \n",
            "5842        6014                  Maruti Swift VDI       Delhi  2014   \n",
            "5843        6015          Hyundai Xcent 1.1 CRDi S      Jaipur  2015   \n",
            "5844        6016             Mahindra Xylo D4 BSIV      Jaipur  2012   \n",
            "5845        6017                Maruti Wagon R VXI     Kolkata  2013   \n",
            "5846        6018             Chevrolet Beat Diesel   Hyderabad  2011   \n",
            "\n",
            "      Kilometers_Driven Owner_Type  Mileage  Engine   Power  Seats  New_Price  \\\n",
            "0                 41000      First    19.67  1582.0  126.20    5.0  20.484564   \n",
            "1                 46000      First    13.00  1199.0   88.70    5.0   8.610000   \n",
            "2                 87000      First    20.77  1248.0   88.76    7.0  20.484564   \n",
            "3                 40670     Second    15.20  1968.0  140.80    5.0  20.484564   \n",
            "4                 86999      First    23.08  1461.0   63.10    5.0  20.484564   \n",
            "...                 ...        ...      ...     ...     ...    ...        ...   \n",
            "5842              27365      First    28.40  1248.0   74.00    5.0   7.880000   \n",
            "5843             100000      First    24.40  1120.0   71.00    5.0  20.484564   \n",
            "5844              55000     Second    14.00  2498.0  112.00    8.0  20.484564   \n",
            "5845              46000      First    18.90   998.0   67.10    5.0  20.484564   \n",
            "5846              47000      First    25.44   936.0   57.60    5.0  20.484564   \n",
            "\n",
            "      Price  Fuel_Type_Diesel  Fuel_Type_Electric  Fuel_Type_Petrol  \\\n",
            "0     12.50                 1                   0                 0   \n",
            "1      4.50                 0                   0                 1   \n",
            "2      6.00                 1                   0                 0   \n",
            "3     17.74                 1                   0                 0   \n",
            "4      3.50                 1                   0                 0   \n",
            "...     ...               ...                 ...               ...   \n",
            "5842   4.75                 1                   0                 0   \n",
            "5843   4.00                 1                   0                 0   \n",
            "5844   2.90                 1                   0                 0   \n",
            "5845   2.65                 0                   0                 1   \n",
            "5846   2.50                 1                   0                 0   \n",
            "\n",
            "      Transmission_Automatic  Transmission_Manual  Current_Year  Car_Age  \n",
            "0                          0                    1          2023        8  \n",
            "1                          0                    1          2023       12  \n",
            "2                          0                    1          2023       11  \n",
            "3                          1                    0          2023       10  \n",
            "4                          0                    1          2023       10  \n",
            "...                      ...                  ...           ...      ...  \n",
            "5842                       0                    1          2023        9  \n",
            "5843                       0                    1          2023        8  \n",
            "5844                       0                    1          2023       11  \n",
            "5845                       0                    1          2023       10  \n",
            "5846                       0                    1          2023       12  \n",
            "\n",
            "[5847 rows x 19 columns]\n"
          ]
        }
      ]
    },
    {
      "cell_type": "code",
      "source": [
        "df.to_csv('data.csv')"
      ],
      "metadata": {
        "id": "Et9H_2eC-fZM"
      },
      "execution_count": 24,
      "outputs": []
    }
  ]
}